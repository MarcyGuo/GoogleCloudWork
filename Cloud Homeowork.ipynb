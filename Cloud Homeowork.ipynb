{
 "cells": [
  {
   "cell_type": "markdown",
   "id": "50b42fc2",
   "metadata": {},
   "source": [
    "### Project 1.) First Cloud Function"
   ]
  },
  {
   "cell_type": "markdown",
   "id": "e047b110",
   "metadata": {},
   "source": [
    "##### Description : Post a cloud function that takes in a string of numbers and returns a json file that contains the the sum of all of the single digit numbers"
   ]
  },
  {
   "cell_type": "markdown",
   "id": "187f1ddd",
   "metadata": {},
   "source": [
    "Example : input =\"12345\"<br>\n",
    "output = 1+2+3+4+5 = 15<br>\n",
    "returns({\"answer\":15})<br>"
   ]
  },
  {
   "cell_type": "code",
   "execution_count": 15,
   "id": "7591a6e4",
   "metadata": {},
   "outputs": [],
   "source": [
    "import requests\n",
    "import json\n",
    "\n",
    "# Function URL\n",
    "url_pj1 = \"https://us-central1-gemini-pr.cloudfunctions.net/CloudHW_Pj1\"\n"
   ]
  },
  {
   "cell_type": "code",
   "execution_count": 16,
   "id": "440080a0",
   "metadata": {},
   "outputs": [
    {
     "name": "stdout",
     "output_type": "stream",
     "text": [
      "Status Code: 200\n",
      "Response JSON: {'answer': 15}\n"
     ]
    }
   ],
   "source": [
    "# TEST THE FUNCTION\n",
    "\n",
    "# Input data\n",
    "data = {\n",
    "    \"input\": \"12345\"\n",
    "}\n",
    "\n",
    "# Headers\n",
    "headers = {\n",
    "    \"Content-Type\": \"application/json\"\n",
    "}\n",
    "\n",
    "# Make the POST request\n",
    "response = requests.post(url_pj1, headers=headers, data=json.dumps(data))\n",
    "\n",
    "# Print the response\n",
    "print(\"Status Code:\", response.status_code)\n",
    "print(\"Response JSON:\", response.json())\n"
   ]
  },
  {
   "cell_type": "markdown",
   "id": "419394c4",
   "metadata": {},
   "source": [
    "##### 1.b.) Query your cloud function using requests for example input \"012937\", \"2\" and \"9999999999999\""
   ]
  },
  {
   "cell_type": "code",
   "execution_count": 17,
   "id": "1e139200",
   "metadata": {},
   "outputs": [
    {
     "name": "stdout",
     "output_type": "stream",
     "text": [
      "Input: 012937\n",
      "Status Code: 200\n",
      "Response JSON: {'answer': 22}\n",
      "\n",
      "\n",
      "Input: 2\n",
      "Status Code: 200\n",
      "Response JSON: {'answer': 2}\n",
      "\n",
      "\n",
      "Input: 9999999999999\n",
      "Status Code: 200\n",
      "Response JSON: {'answer': 117}\n",
      "\n",
      "\n"
     ]
    }
   ],
   "source": [
    "inputs = [\"012937\", \"2\", \"9999999999999\"]\n",
    "\n",
    "# Function to query the cloud function\n",
    "def query_cloud_function(input_data):\n",
    "    data = {\"input\": input_data}\n",
    "    response = requests.post(url_pj1, headers=headers, data=json.dumps(data))\n",
    "    return response.status_code, response.json()\n",
    "\n",
    "# Loop through each input and query the cloud function\n",
    "results = []\n",
    "for input_str in inputs:\n",
    "    status_code, response_json = query_cloud_function(input_str)\n",
    "    results.append((input_str, status_code, response_json))\n",
    "\n",
    "# Print the results\n",
    "for input_str, status_code, response_json in results:\n",
    "    print(f\"Input: {input_str}\")\n",
    "    print(f\"Status Code: {status_code}\")\n",
    "    print(f\"Response JSON: {response_json}\")\n",
    "    print(\"\\n\")\n"
   ]
  },
  {
   "cell_type": "markdown",
   "id": "93a38f37-f894-41d1-b072-0be55dacc7a7",
   "metadata": {},
   "source": [
    "##### 1.c.) Add srborghese@g.ucla.edu to your cloud project via IAM."
   ]
  },
  {
   "cell_type": "markdown",
   "id": "8ef89aa1",
   "metadata": {},
   "source": [
    "Added"
   ]
  },
  {
   "cell_type": "markdown",
   "id": "97a4a8bd",
   "metadata": {},
   "source": [
    "### Project 2.) Automated Webscraping"
   ]
  },
  {
   "cell_type": "markdown",
   "id": "d1d15867",
   "metadata": {},
   "source": [
    "##### Description : Find a website that is scrapable with Beautiful soup that updates with some frequency. Build a cloud function to programatically scrape the useful content"
   ]
  },
  {
   "cell_type": "code",
   "execution_count": 18,
   "id": "54324bc0",
   "metadata": {},
   "outputs": [
    {
     "name": "stdout",
     "output_type": "stream",
     "text": [
      "Headlines: [\"Harris pulled from trail with months to go to address Iran's threats\", 'Stocks tumble as recession fears spark turmoil throughout global markets', 'Harris VP search comes down to the wire as Dems split over top 3 contenders', \"15 DAYS: VP scorched for avoiding media just like Biden's basement campaign\", \"JD Vance's wife responds to 'childless cat ladies' backlash with statement's true meaning\", 'Hurricane hits southern US with monster 80-mph winds and life-threatening rain', 'Elon Musk calls out the Federal Reserve for major decision in wake of lackluster jobs report', 'Simone Biles’ husband trolled online after praising his gold medalist wife', 'Political cartoons of the day', 'King Charles refuses Harry’s calls after committing ‘cardinal sin’ against his father', 'Olympic Gold medalist Femke Bol going viral because of her voice', 'LISTEN: How will momentum shift as Harris-Trump battle heats up? Dana Perino looks at matchup', \"Stanley's newest launch - the Cross Bottle - lets you wear your water\", 'Simone Biles fails making it to podium after slipping off balance beam', '2024 Olympic Games medal counter: Stay up to date on Team USA, other wins', 'Chiles picks up bronze medal after score is changed following floor routine', 'USA skateboarder, 18, excited to represent country and see the sport grow', 'WATCH LIVE: Latest coverage of today’s top stories on ‘America’s Newsroom’', 'Iran issues chilling threat against Israel as Hezbollah drones preview larger attack', 'James Carville weighs in on the possible Trump and Harris faceoff', \"Black Pennsylvania voters say Kamala Harris isn't Black in viral CNN clip\", 'Harris’ husband admits cheating on first wife after report he got nanny pregnant', 'New tech fast-tracks dementia diagnoses by tapping into ‘hidden information’ in brain', 'Trump blocked by social media sites over the years, still permanently banned by one', 'Dems who attacked Trump are silent on similar Biden action — GOP slams them for it', \"Kamala Harris' potential VP pick sends social media into frenzy with cryptic post\", 'Plane turns around over Atlantic following lightning strike', 'Sen Tom Cotton says Kamala Harris will buckle under media pressure', 'GOP widens probe into ActBlue, Dem fundraising platform helping Harris raise millions', 'Secret Service communication breakdown exposed in 29-minute radio warning', 'Harris VP hopeful has close ties with trans activist group who targeted Christian counselors', 'Bounce house goes airborne at baseball game, killing 5-year-old who was stuck inside', \"Man accused of attacking 3 people inside McDonald's after demanding free food\", \"'Squad' Dems to rally for Cori Bush as she fights for her political life\", 'Should Biden be added to Mount Rushmore? Former top Democrat weighs in', \"Team USA's Anthony Edwards' Olympics experience is 'everything [he] dreamed'\", 'Suni Lee was bedridden in December. Now she has three Olympic medals in Paris', \"Freddie Freeman's 3-year-old son returns home from hospital while battling Guillain-Barré syndrome\", 'Texas breakfast favorite, kolache, has fascinating backstory', 'How well do you know state lines, felines and amazing US grapevines?', 'Longtime restaurant forced to permanently close after 30 years', 'FUN FACTOIDS: Scroll through and be amazed by these fascinating facts and figures', \"Gun Owners of America fights ban on carrying firearms openly: 'Blatant infringement'\", 'Search underway at Yosemite National Park after two hikers fail to return to campground', \"Lottery winner won't give brother big chunk of money as family torn apart\", 'Zac Efron speaks out after a pool accident in Ibiza lands him in the hospital', 'Judge Judy weighs in on controversial debate over raising children', 'Bishop Barron, Jonathan Pageau discuss science and church reunification', 'New Dems are laser-focused on fighting crime', \"Former colleague shares how Trump can sink Kamala Harris' campaign — it's not her heritage\", 'Trump endorses second GOP candidate in primary', \"Newlywed 'Dukes of Hazzard' star felt 'guilty' about finding love after loss\", 'Roman Reigns helps Cody Rhodes in electric SummerSlam return', 'A-list actress pawns off $275k Lamborghini to husband in favor of down-to-earth ride', 'ANTISEMITISM EXPOSED: BBC chair denies plea from Jewish staffers for probe into antisemitism in the newsroom', 'WATCH: Florida home pool cover collapses from heavy rain from Debby', 'On this day in history, August 5, 1962, Marilyn Monroe is found dead in Los Angeles', 'PLAY NOW! Crosswords ♠ Word Search ♦ Crazy Crystals ♣ Stack & Match ♥ 5 Across!', \"UK's Amber Rutter robbed of gold in skeet shooting thanks to no video review\", 'How the US used AI to take on the Taliban amid drawdown', 'Family goes viral for pulling off hilarious airport prank on dad', 'KITCHEN CABINET: Delicious recipes, surprising power foods & juicy secrets to eating better', 'VACATION MODE: Discover your next getaway, travel hacks & expert recommendations', 'PICTURE OF HEALTH: Doctors on call for you, tips to staying fit & key warning signs', 'Fox Nation', 'Marlins Can Take Opener From Reds', 'HBO Shares First Look At Season Two Of Hit Series', \"One Year After 'Down Goes Anderson!,' The White Sox Still Haven't Gotten Up From The Mat\", 'Pitching Splits Show Signs For Offensive Production', \"Border mayors judge Harris' performance on immigration crisis as vice president: 'Nonexistent'\", \"Kamala Harris supporters unsure when asked about VP's policy accomplishments\", 'Ex-liberal activist who went viral for pro-Trump post says assassination attempt solidified support', \"'Predator's playground': Former addict says Philadelphia drug market 'worse' despite city clearing efforts\", 'Don’t let back to school mean back in debt', 'Filipino gymnast wins Olympic gold medal — and a house', 'Dave Portnoy reveals his colonoscopy experience to the world: ‘You gotta do it’', \"Harris is 'Biden's co-pilot' on 'Bidenomics' policies that prompted woeful jobs numbers: Trump camp\", \"Gen. Keane warns Russia, US adversaries will continue taking Americans hostage: 'The model has failed'\", \"JESSE WATTERS: Secret Service makes 'shocking admission' after Trump assassination attempt\", \"LAURA INGRAHAM: It's 'beyond comprehension' that Kamala Harris could be responsible for so many lives\", \"Mainstream media facing increasing questions over Kamala Harris coverage: 'Total dereliction of duty'\", \"'Squad' Dems to rally for Cori Bush as she fights for her political life\", '‘Serious loophole’: GOP widens probe into ActBlue, Dem fundraising platform helping Harris raise millions', 'Usha Vance reveals how she deals with negative press coverage of her husband', 'New Dems are laser-focused on fighting crime', \"Hacked, scammed, exposed: Why you're 1 step away from disaster online\", \"Gun Owners of America fights Florida's ban on carrying firearms openly: 'Blatant infringement'\", \"Olympic shooter says sport's future 'looms,' hopes IOC will put up a 'fight' for athletes in the future\", 'Is it worth saving money to let a car insurance company track your every move?', 'Iran issues chilling threat against Israel as Hezbollah drones preview larger attack', 'Biden to meet with national security team ahead of anticipated Iranian attack against Israel', \"Iran’s foreign ministry says punishing Israel is 'necessary' after assassination of Hamas leader\", 'Iran rejects pleas from US, Arabs to show restraint in response to assassination of Hamas leader', 'New Dems are laser-focused on fighting crime', 'The ugly truth about Kamala Harris’ law-enforcement record', 'Harris’ energy flip-flop doesn’t change her terrible record', 'Don’t let back to school mean back in debt', 'AI fast-tracks dementia diagnoses by tapping into ‘hidden information’ in brain waves', \"Some pregnant women use castor oil to speed up labor, but experts say it's not for everyone\", \"Mental health dangers, Alzheimer's risk factors and more top health stories\", 'Dave Portnoy reveals his colonoscopy experience to the world: ‘You gotta do it’', \"Hacked, scammed, exposed: Why you're 1 step away from disaster online\", 'New Dems are laser-focused on fighting crime', 'The ugly truth about Kamala Harris’ law-enforcement record', \"Maryland man arrested for setting fire to Domino's using containers of feces after breaking into vehicles\", 'On this day in history, August 3, 2004, Statue of Liberty welcomes visitors for first time since 9/11', \"New book by Fox News' Juan Williams, 'New Prize for These Eyes,' reveals 'second' civil rights movement\", 'Trump assassination attempt in Butler, Pennsylvania, has chilling ties to George Washington, first president', 'Patriot rescues fragment of Old Glory as pro-Hamas agitators burn American flag in viral video', 'Bangladesh PM resigns, leaves country after residence is stormed by protesters, ending 15-year rule', 'On this day in history, August 4, 1790, Coast Guard is established by Alexander Hamilton', 'Watchdog claims victory over Pentagon animal testing as lawmakers demand accounting of taxpayer funds', 'U.S. military expands presence in Middle East, repositions forces as regional tensions simmer', 'Zac Efron breaks silence after accident in Ibiza pool landed him in the hospital', \"‘Dukes of Hazzard’ star John Schneider, Dee Dee Sorvino felt ‘guilty’ about love after loss but ‘it’s magic'\", \"'Rescue Me' star Adam Ferrara says firefighters constantly 'acting out of courage'\", 'King Charles refuses Prince Harry’s calls after he committed ‘cardinal sin’ against his father: expert', 'Jordan Chiles picks up bronze medal after score is changed following floor routine, Simone Biles gets silver', \"Suni Lee blames lack of crowd noise for balance beam mistakes: 'Feeling the pressure'\", 'Simone Biles slips off balance beam, fails to make podium in Paris Olympics event', 'Algerian boxer Imane Khelif declines to answer question about testing amid gender controversy: report', '2 hikers in Yosemite National Park reported missing', 'Israel braces for imminent Iranian attack and more top headlines', \"Maryland man arrested for setting fire to Domino's using containers of feces after breaking into vehicles\", 'Secret Service failure at Trump rally exposes culture rot, staffing woes', \"Judge Judy weighs in on the debate over raising children: 'You're not supposed to be friends'\", \"Lottery winner won't give brother big chunk of money as family is torn apart: 'Accused me of being selfish'\", 'Record-breaking roller coasters that are the highest, fastest, longest, steepest, most expensive in the US', \"Josh Hartnett protecting daughters from Hollywood: 'I don't want that for my kids'\", \"Today's mortgage rates continue to plummet for 15- and 30-year terms | August 5, 2024\", 'Parents putting off paying bills, buying groceries for back-to-school expenses', \"More people trying 'no-buy year' trend to save thousands of dollars\", 'Despite tough times for Tesla, EV sales set new record in second quarter', \"Hacked, scammed, exposed: Why you're 1 step away from disaster online\", 'A helmet using a curtain of air could make face masks obsolete', 'Is it worth saving money to let a car insurance company track your every move?', 'Why engineers are teaching humanoid robots to move and groove', 'Zac Efron breaks silence after accident in Ibiza pool landed him in the hospital', 'American Culture Quiz: How well do you know state lines, felines and amazing US grapevines?', 'On this day in history, August 5, 1962, Marilyn Monroe is found dead in Los Angeles', 'Harrison Ford stunts on ‘Indiana Jones’ leaves prop collector shocked: ‘A peek behind the curtain’', 'Delta plane turns around over Atlantic following lightning strike', \"Today's mortgage rates continue to plummet for 15- and 30-year terms | August 5, 2024\", 'Hurricane Debby knocks out power to over 200K Floridians', \"Man in Chicago McDonald's accused of attacking 3 with 'hatchet-like weapon' after demanding free food\", \"Judge Judy weighs in on the debate over raising children: 'You're not supposed to be friends'\", 'Catholic bishop and Orthodox artist discuss materialism, scientific arguments for Christ, reunification', \"Lottery winner won't give brother big chunk of money as family is torn apart: 'Accused me of being selfish'\", \"Colorado faith leader uses Bible verses as 'clarion call' to examine 'why we follow Christ'\", 'Revolutionary flying car promises highway speeds and 3-hour flights', \"Vance brands Harris a 'coward'; Trump dinged for 'attacks and insults' as campaigns war after fiery event\", 'Ultra-fast charging EV sports car can juice up in 5 minutes', 'The overlooked danger of Chinese self-driving cars on roads in America', '2 hikers in Yosemite National Park reported missing', 'Record-breaking roller coasters that are the highest, fastest, longest, steepest, most expensive in the US', \"Argentina's Milei rallies Venezuelan opposition despite Maduro's 'ugly' attacks\", 'Base jumper dies after 500-foot fall at Grand Canyon', 'American Culture Quiz: How well do you know state lines, felines and amazing US grapevines?', \"Man arrested at Morgan Wallen concert for allegedly making 'terrorist threat' against Kansas City Chiefs stars\", \"Kesha says she 'didn't know' prop knife was replaced by 'real butcher knife' during Lollapalooza performance\", \"Aerosmith retires from touring, Steven Tyler's voice won't make full 'recovery': 'Heartbreaking'\", 'Texas breakfast favorite, kolache, has fascinating backstory involving Czech immigration', \"'Killer Turkey Burger' recipe from Anne Burrell, celebrity chef: 'Delicious new twist'\", \"Olympian rocks TikTok over chocolate muffins that taste 'just like cake'\", \"Mead, the alcohol better known as honey wine, is 'liquid history in a glass'\", 'Hurricane Debby makes landfall in Florida with life-threatening storm surge, flooding rain', 'Tracking Hurricane Debby: Forecast cone, path, live conditions, spaghetti models and more', 'See it: Debby floods Fort Myers area while inching toward Florida landfall', 'Watch: Debby floods Tampa area while inching toward Florida landfall', 'Sunday Night in America with Trey Gowdy - Sunday, August 4', 'Life, Liberty & Levin - Sunday, August 4', 'The Big Weekend Show - Sunday, August 4', '#MediaBuzz - Sunday, August 4', 'Bangladesh PM resigns, leaves country after residence is stormed by protesters, ending 15-year rule', 'Ohio man sentenced to life in prison for murdering his 3 young sons at their home', 'Rights group says security forces have killed 9 as Nigeria protests over hardship enter a second day', 'Teen brother of Air Force airman who was killed by Florida deputy is shot to death near Atlanta']\n"
     ]
    }
   ],
   "source": [
    "# Define the cloud function URL\n",
    "url_pj2 = \"https://us-central1-gemini-pr.cloudfunctions.net/foxnews\"\n",
    "\n",
    "def call_cloud_function(url):\n",
    "    # Make a POST request to the cloud function\n",
    "    response = requests.post(url)\n",
    "    \n",
    "    # Check if the request was successful\n",
    "    if response.status_code == 200:\n",
    "        # Parse the JSON response\n",
    "        result = response.json()\n",
    "        return result\n",
    "    else:\n",
    "        # If there was an error, print the status code and response\n",
    "        print(f\"Error: {response.status_code}\")\n",
    "        print(response.text)\n",
    "        return None\n",
    "\n",
    "# Call the cloud function and print the result\n",
    "headlines = call_cloud_function(url_pj2)\n",
    "print(\"Headlines:\", headlines)\n"
   ]
  },
  {
   "cell_type": "markdown",
   "id": "504f3088",
   "metadata": {},
   "source": [
    "##### 2.b.) Query your stored files"
   ]
  },
  {
   "cell_type": "code",
   "execution_count": 19,
   "id": "a9cd4f3e",
   "metadata": {},
   "outputs": [
    {
     "name": "stdout",
     "output_type": "stream",
     "text": [
      "headlines_webscrapping/\n",
      "headlines_webscrapping/Copy of fox_headlines_20240517222530.csv\n",
      "headlines_webscrapping/fox_headlines_20240517222530.csv\n",
      "headlines_webscrapping/fox_headlines_20240518053433.csv\n",
      "headlines_webscrapping/fox_headlines_20240518053850.csv\n",
      "headlines_webscrapping/fox_headlines_20240518053901.csv\n",
      "headlines_webscrapping/fox_headlines_20240518054003.csv\n",
      "headlines_webscrapping/fox_headlines_20240518054504.csv\n",
      "headlines_webscrapping/fox_headlines_20240518055003.csv\n",
      "headlines_webscrapping/fox_headlines_20240519070005.csv\n",
      "headlines_webscrapping/fox_headlines_20240519150007.csv\n",
      "headlines_webscrapping/fox_headlines_20240519223150.csv\n",
      "headlines_webscrapping/fox_headlines_20240519223232.csv\n",
      "headlines_webscrapping/fox_headlines_20240519230004.csv\n",
      "headlines_webscrapping/fox_headlines_20240520055845.csv\n",
      "headlines_webscrapping/fox_headlines_20240520070004.csv\n",
      "headlines_webscrapping/fox_headlines_20240520150007.csv\n",
      "headlines_webscrapping/fox_headlines_20240520194606.csv\n",
      "headlines_webscrapping/fox_headlines_20240520200850.csv\n",
      "headlines_webscrapping/fox_headlines_20240520202803.csv\n",
      "headlines_webscrapping/fox_headlines_20240520230005.csv\n",
      "headlines_webscrapping/fox_headlines_20240521070013.csv\n",
      "headlines_webscrapping/fox_headlines_20240521150009.csv\n",
      "headlines_webscrapping/fox_headlines_20240521230009.csv\n",
      "headlines_webscrapping/fox_headlines_20240522070008.csv\n",
      "headlines_webscrapping/fox_headlines_20240522150006.csv\n",
      "headlines_webscrapping/fox_headlines_20240522230006.csv\n",
      "headlines_webscrapping/fox_headlines_20240523070007.csv\n",
      "headlines_webscrapping/fox_headlines_20240523150006.csv\n",
      "headlines_webscrapping/fox_headlines_20240524003515.csv\n",
      "headlines_webscrapping/fox_headlines_20240604010133.csv\n",
      "headlines_webscrapping/fox_headlines_20240604010420.csv\n",
      "headlines_webscrapping/fox_headlines_20240805141515.csv\n",
      "headlines_webscrapping/fox_headlines_20240805141617.csv\n"
     ]
    }
   ],
   "source": [
    "import os\n",
    "from google.cloud import storage\n",
    "\n",
    "# Set the environment variable to point to your service account key file\n",
    "os.environ['GOOGLE_APPLICATION_CREDENTIALS'] = 'gemini-pr-566fe0680ef8.json'\n",
    "\n",
    "def list_blobs(bucket_name):\n",
    "    \"\"\"Lists all the blobs in the bucket.\"\"\"\n",
    "    storage_client = storage.Client()\n",
    "    bucket = storage_client.bucket(bucket_name)\n",
    "    blobs = bucket.list_blobs()\n",
    "\n",
    "    blob_names = []\n",
    "    for blob in blobs:\n",
    "        blob_names.append(blob.name)\n",
    "        print(blob.name)\n",
    "    \n",
    "    return blob_names\n",
    "\n",
    "# List all blobs in the bucket\n",
    "bucket_name = 'foxnews_sam'\n",
    "stored_files = list_blobs(bucket_name)\n"
   ]
  },
  {
   "cell_type": "markdown",
   "id": "368798b0",
   "metadata": {},
   "source": [
    "##### 2.c.) State how this could be useful in a business setting"
   ]
  },
  {
   "cell_type": "markdown",
   "id": "84ff63e1",
   "metadata": {},
   "source": [
    "1. Market Analysis: Companies can track the latest news and trends to adjust their strategies accordingly.\n",
    "2. Sentiment Analysis: By analyzing the headlines, businesses can gauge public sentiment on various topics.\n",
    "3. Competitive Intelligence: Keeping an eye on the news can help businesses stay informed about competitors' activities.\n",
    "4. Content Aggregation: Media and content companies can aggregate news headlines from various sources to provide comprehensive news coverage.\n",
    "5. Decision Making: Real-time access to relevant news can aid executives and decision-makers in making informed business decisions.\n"
   ]
  },
  {
   "cell_type": "markdown",
   "id": "0ad1706f",
   "metadata": {},
   "source": [
    "### Project 3.) "
   ]
  },
  {
   "cell_type": "markdown",
   "id": "ad99a208",
   "metadata": {},
   "source": [
    "##### Description : Build some machine learning model using scikit learn and make it queriable using cloud functions"
   ]
  },
  {
   "cell_type": "code",
   "execution_count": 20,
   "id": "590b491f",
   "metadata": {},
   "outputs": [],
   "source": [
    "import pandas as pd\n",
    "from sklearn.model_selection import train_test_split\n",
    "from sklearn.preprocessing import StandardScaler\n",
    "from sklearn.ensemble import RandomForestClassifier\n",
    "from sklearn.metrics import accuracy_score\n",
    "import joblib\n",
    "import numpy as np"
   ]
  },
  {
   "cell_type": "markdown",
   "id": "e7541391",
   "metadata": {},
   "source": [
    "Step 1.) Train an ML model and save the model locally"
   ]
  },
  {
   "cell_type": "code",
   "execution_count": 21,
   "id": "157c5fac",
   "metadata": {},
   "outputs": [
    {
     "name": "stdout",
     "output_type": "stream",
     "text": [
      "   cap-diameter  cap-shape  gill-attachment  gill-color  stem-height  \\\n",
      "0          1372          2                2          10     3.807467   \n",
      "1          1461          2                2          10     3.807467   \n",
      "2          1371          2                2          10     3.612496   \n",
      "3          1261          6                2          10     3.787572   \n",
      "4          1305          6                2          10     3.711971   \n",
      "\n",
      "   stem-width  stem-color    season  class  \n",
      "0        1545          11  1.804273      1  \n",
      "1        1557          11  1.804273      1  \n",
      "2        1566          11  1.804273      1  \n",
      "3        1566          11  1.804273      1  \n",
      "4        1464          11  0.943195      1  \n",
      "<class 'pandas.core.frame.DataFrame'>\n",
      "RangeIndex: 54035 entries, 0 to 54034\n",
      "Data columns (total 9 columns):\n",
      " #   Column           Non-Null Count  Dtype  \n",
      "---  ------           --------------  -----  \n",
      " 0   cap-diameter     54035 non-null  int64  \n",
      " 1   cap-shape        54035 non-null  int64  \n",
      " 2   gill-attachment  54035 non-null  int64  \n",
      " 3   gill-color       54035 non-null  int64  \n",
      " 4   stem-height      54035 non-null  float64\n",
      " 5   stem-width       54035 non-null  int64  \n",
      " 6   stem-color       54035 non-null  int64  \n",
      " 7   season           54035 non-null  float64\n",
      " 8   class            54035 non-null  int64  \n",
      "dtypes: float64(2), int64(7)\n",
      "memory usage: 3.7 MB\n",
      "None\n"
     ]
    }
   ],
   "source": [
    "# Load the dataset\n",
    "data = pd.read_csv('mushroom.csv')\n",
    "print(data.head())\n",
    "print(data.info())\n",
    "#data"
   ]
  },
  {
   "cell_type": "code",
   "execution_count": 22,
   "id": "1048018c",
   "metadata": {},
   "outputs": [
    {
     "name": "stdout",
     "output_type": "stream",
     "text": [
      "Model Accuracy: 99.08%\n"
     ]
    }
   ],
   "source": [
    "# Separate features and target\n",
    "X = data.drop('class', axis=1)\n",
    "y = data['class']\n",
    "\n",
    "# Split the data into training and testing sets\n",
    "X_train, X_test, y_train, y_test = train_test_split(X, y, test_size=0.2, random_state=42)\n",
    "\n",
    "# Scale the features\n",
    "scaler = StandardScaler()\n",
    "X_train = scaler.fit_transform(X_train)\n",
    "X_test = scaler.transform(X_test)\n",
    "\n",
    "# Train a Random Forest Classifier\n",
    "model = RandomForestClassifier(n_estimators=100, random_state=42)\n",
    "model.fit(X_train, y_train)\n",
    "\n",
    "# Evaluate the model\n",
    "y_pred = model.predict(X_test)\n",
    "accuracy = accuracy_score(y_test, y_pred)\n",
    "print(f'Model Accuracy: {accuracy * 100:.2f}%')\n",
    "\n",
    "# Save the trained model to a file\n",
    "#joblib.dump(model, 'mushroom_model.pkl')"
   ]
  },
  {
   "cell_type": "markdown",
   "id": "3b0e2ee5",
   "metadata": {},
   "source": [
    "Step 2: Store the model on the cloud"
   ]
  },
  {
   "cell_type": "markdown",
   "id": "dd16a57c",
   "metadata": {},
   "source": [
    "Step 3: Write Functions to access the Models from the cloud"
   ]
  },
  {
   "cell_type": "code",
   "execution_count": 23,
   "id": "470e96a8",
   "metadata": {},
   "outputs": [],
   "source": [
    "from google.cloud import storage\n",
    "from io import BytesIO\n",
    "\n",
    "def load_model_from_gcs(bucket_name, model_filename):\n",
    "    storage_client = storage.Client()\n",
    "    bucket = storage_client.bucket(bucket_name)\n",
    "    blob = bucket.blob(model_filename)\n",
    "    \n",
    "    # Load the model\n",
    "    model_file = BytesIO()\n",
    "    blob.download_to_file(model_file)\n",
    "    model_file.seek(0)\n",
    "    model = joblib.load(model_file)\n",
    "    \n",
    "    return model\n"
   ]
  },
  {
   "cell_type": "markdown",
   "id": "f6ab5e46",
   "metadata": {},
   "source": [
    "Step 4: Write a function that takes an input and returns the likelihood that the mushroom is poisonous"
   ]
  },
  {
   "cell_type": "code",
   "execution_count": 24,
   "id": "5488ca67",
   "metadata": {},
   "outputs": [],
   "source": [
    "def predict_mushroom(features, model):\n",
    "    # Ensure features are in the correct shape\n",
    "    probabilities = model.predict_proba(np.array(features).reshape(1, -1))[0]\n",
    "    likelihood_poisonous = probabilities[1] \n",
    "    return likelihood_poisonous\n"
   ]
  },
  {
   "cell_type": "code",
   "execution_count": 25,
   "id": "c7833892",
   "metadata": {},
   "outputs": [
    {
     "data": {
      "text/plain": [
       "0.57"
      ]
     },
     "execution_count": 25,
     "metadata": {},
     "output_type": "execute_result"
    }
   ],
   "source": [
    "# Test the function, Retrn the likelihood of the mushroom being poisonous\n",
    "predict_mushroom([3, 2, 1, 6, 7.5, 2, 1, 3], model)"
   ]
  },
  {
   "cell_type": "markdown",
   "id": "4586bd38",
   "metadata": {},
   "source": [
    "Step 5: Format as a Cloud Function"
   ]
  },
  {
   "cell_type": "markdown",
   "id": "c3c22fc6",
   "metadata": {},
   "source": [
    "Step 6: Post to the cloud"
   ]
  },
  {
   "cell_type": "code",
   "execution_count": 26,
   "id": "30cd2b72",
   "metadata": {
    "vscode": {
     "languageId": "latex"
    }
   },
   "outputs": [],
   "source": [
    "import joblib\n",
    "import numpy as np\n",
    "from google.cloud import storage\n",
    "from io import BytesIO\n",
    "\n",
    "def load_model_from_gcs(bucket_name, model_filename):\n",
    "    storage_client = storage.Client()\n",
    "    bucket = storage_client.bucket(bucket_name)\n",
    "    blob = bucket.blob(model_filename)\n",
    "\n",
    "    # Load the model\n",
    "    model_file = BytesIO()\n",
    "    blob.download_to_file(model_file)\n",
    "    model_file.seek(0)\n",
    "    model = joblib.load(model_file)\n",
    "\n",
    "    return model\n",
    "\n",
    "def predict_mushroom(request):\n",
    "    request_json = request.get_json(silent=True)\n",
    "    if request_json and 'features' in request_json:\n",
    "        features = request_json['features']\n",
    "        model = load_model_from_gcs('YOUR_BUCKET_NAME', 'mushroom_model.pkl')\n",
    "        probabilities = model.predict_proba(np.array(features).reshape(1, -1))[0]\n",
    "        likelihood_poisonous = probabilities[1]  # Assuming 1 is the poisonous class\n",
    "        return {'likelihood_poisonous': likelihood_poisonous}\n",
    "    else:\n",
    "        return {'error': 'Invalid input'}, 400\n"
   ]
  },
  {
   "cell_type": "markdown",
   "id": "c1b22ee7",
   "metadata": {},
   "source": [
    "Step 7: Query the Model"
   ]
  },
  {
   "cell_type": "code",
   "execution_count": 27,
   "id": "97806a81",
   "metadata": {},
   "outputs": [
    {
     "name": "stdout",
     "output_type": "stream",
     "text": [
      "{\"likelihood_poisonous\":0.57}\n",
      "\n"
     ]
    }
   ],
   "source": [
    "url_pj3 = 'https://us-central1-gemini-pr.cloudfunctions.net/CloudHW_Pj3'\n",
    "data = {\n",
    "    'features': [3, 2, 1, 6, 7.5, 2, 1, 3]\n",
    "}\n",
    "\n",
    "response = requests.post(url_pj3, json=data)\n",
    "print(response.text)  \n"
   ]
  },
  {
   "cell_type": "markdown",
   "id": "2786f9cf",
   "metadata": {},
   "source": [
    "##### 3.b.) Make a user-friendly input page that takes the inputs to your ML model via widgets and displays the output. Upload a seperate .ipynb that makes this easy to use. (Next Assignment you will have to turn this into a shareable webpage).\n",
    "\n",
    "---\n",
    "\n",
    "*This is a test version of the input page, the updated version is in a separate file.*\n",
    "\n",
    "---"
   ]
  },
  {
   "cell_type": "code",
   "execution_count": 28,
   "id": "58791cca",
   "metadata": {},
   "outputs": [
    {
     "data": {
      "application/vnd.jupyter.widget-view+json": {
       "model_id": "6bd46b71196844a7a19215161bcb9d4f",
       "version_major": 2,
       "version_minor": 0
      },
      "text/plain": [
       "FloatText(value=0.0, description='Cap Diameter:')"
      ]
     },
     "metadata": {},
     "output_type": "display_data"
    },
    {
     "data": {
      "application/vnd.jupyter.widget-view+json": {
       "model_id": "d4737824a9fb4ebfb77f67baf3585cc8",
       "version_major": 2,
       "version_minor": 0
      },
      "text/plain": [
       "IntText(value=0, description='Cap Shape:')"
      ]
     },
     "metadata": {},
     "output_type": "display_data"
    },
    {
     "data": {
      "application/vnd.jupyter.widget-view+json": {
       "model_id": "6e4783203f3540edbcccfe0b079ad806",
       "version_major": 2,
       "version_minor": 0
      },
      "text/plain": [
       "IntText(value=0, description='Gill Attachment:')"
      ]
     },
     "metadata": {},
     "output_type": "display_data"
    },
    {
     "data": {
      "application/vnd.jupyter.widget-view+json": {
       "model_id": "24f30409a042400f91d25f556235531b",
       "version_major": 2,
       "version_minor": 0
      },
      "text/plain": [
       "IntText(value=0, description='Gill Color:')"
      ]
     },
     "metadata": {},
     "output_type": "display_data"
    },
    {
     "data": {
      "application/vnd.jupyter.widget-view+json": {
       "model_id": "22d63efc0fa045909d16b95d5fbcc8b7",
       "version_major": 2,
       "version_minor": 0
      },
      "text/plain": [
       "FloatText(value=0.0, description='Stem Height:')"
      ]
     },
     "metadata": {},
     "output_type": "display_data"
    },
    {
     "data": {
      "application/vnd.jupyter.widget-view+json": {
       "model_id": "71eb4279da9e46da8f4ced2d5259d7ba",
       "version_major": 2,
       "version_minor": 0
      },
      "text/plain": [
       "FloatText(value=0.0, description='Stem Width:')"
      ]
     },
     "metadata": {},
     "output_type": "display_data"
    },
    {
     "data": {
      "application/vnd.jupyter.widget-view+json": {
       "model_id": "fd9ed9e7535842ae81327a2bb7bd4ac5",
       "version_major": 2,
       "version_minor": 0
      },
      "text/plain": [
       "IntText(value=0, description='Stem Color:')"
      ]
     },
     "metadata": {},
     "output_type": "display_data"
    },
    {
     "data": {
      "application/vnd.jupyter.widget-view+json": {
       "model_id": "f1b0782e97654cc99afdae213049cdc2",
       "version_major": 2,
       "version_minor": 0
      },
      "text/plain": [
       "FloatText(value=0.0, description='Season:')"
      ]
     },
     "metadata": {},
     "output_type": "display_data"
    },
    {
     "data": {
      "application/vnd.jupyter.widget-view+json": {
       "model_id": "970b9428439c44018d223f25e4f26a75",
       "version_major": 2,
       "version_minor": 0
      },
      "text/plain": [
       "Button(description='Predict', style=ButtonStyle())"
      ]
     },
     "metadata": {},
     "output_type": "display_data"
    },
    {
     "data": {
      "application/vnd.jupyter.widget-view+json": {
       "model_id": "4cde930c34e4495ca11951ab9575ddda",
       "version_major": 2,
       "version_minor": 0
      },
      "text/plain": [
       "Output()"
      ]
     },
     "metadata": {},
     "output_type": "display_data"
    }
   ],
   "source": [
    "import ipywidgets as widgets\n",
    "from IPython.display import display\n",
    "import requests\n",
    "\n",
    "# Create widgets for input\n",
    "cap_diameter = widgets.FloatText(description='Cap Diameter:')\n",
    "cap_shape = widgets.IntText(description='Cap Shape:')\n",
    "gill_attachment = widgets.IntText(description='Gill Attachment:')\n",
    "gill_color = widgets.IntText(description='Gill Color:')\n",
    "stem_height = widgets.FloatText(description='Stem Height:')\n",
    "stem_width = widgets.FloatText(description='Stem Width:')\n",
    "stem_color = widgets.IntText(description='Stem Color:')\n",
    "season = widgets.FloatText(description='Season:')\n",
    "\n",
    "# Button to submit the input\n",
    "button = widgets.Button(description='Predict')\n",
    "\n",
    "# Output widget to display the result\n",
    "output = widgets.Output()\n",
    "\n",
    "def on_button_click(b):\n",
    "    # Get the input values\n",
    "    features = [\n",
    "        cap_diameter.value,\n",
    "        cap_shape.value,\n",
    "        gill_attachment.value,\n",
    "        gill_color.value,\n",
    "        stem_height.value,\n",
    "        stem_width.value,\n",
    "        stem_color.value,\n",
    "        season.value\n",
    "    ]\n",
    "    \n",
    "    # Prepare the data for the request\n",
    "    data = {\n",
    "        'features': features\n",
    "    }\n",
    "    \n",
    "    # Make the request to the Cloud Function\n",
    "    response = requests.post(url_pj3, json=data)\n",
    "    \n",
    "    # Display the result\n",
    "    with output:\n",
    "        output.clear_output()\n",
    "        if response.status_code == 200:\n",
    "            result = response.json()\n",
    "            print(f\"Likelihood of being poisonous: {result['likelihood_poisonous'] * 100:.2f}%\")\n",
    "        else:\n",
    "            print(f\"Error: {response.json()['error']}\")\n",
    "\n",
    "# Link the button click event to the function\n",
    "button.on_click(on_button_click)\n",
    "\n",
    "# Display the widgets\n",
    "display(cap_diameter, cap_shape, gill_attachment, gill_color, stem_height, stem_width, stem_color, season, button, output)\n",
    "\n",
    "\n"
   ]
  },
  {
   "cell_type": "markdown",
   "id": "6bdb4720",
   "metadata": {},
   "source": [
    "##### 3.c.) Think of a company that would use the ML app you just built. What employees could use this app what would they use it for? Write a short paragraph."
   ]
  },
  {
   "cell_type": "markdown",
   "id": "2486af79",
   "metadata": {},
   "source": [
    "A company that could use this ML app is a food safety and inspection agency, such as the Food and Drug Administration (FDA). Inspectors and scientists in the FDA could use this app to rapidly assess the safety of various mushrooms collected during field inspections. By inputting features like cap diameter, cap shape, gill attachment, gill color, stem height, stem width, stem color, and the season into the app, employees can quickly obtain a likelihood that a particular mushroom is poisonous. This tool can significantly enhance the efficiency and accuracy of their inspections, allowing them to make informed decisions and take swift action to prevent the distribution of potentially hazardous mushrooms. This would not only protect public health but also streamline the inspection process, making it more effective and resource-efficient."
   ]
  }
 ],
 "metadata": {
  "kernelspec": {
   "display_name": "Python 3 (ipykernel)",
   "language": "python",
   "name": "python3"
  },
  "language_info": {
   "codemirror_mode": {
    "name": "ipython",
    "version": 3
   },
   "file_extension": ".py",
   "mimetype": "text/x-python",
   "name": "python",
   "nbconvert_exporter": "python",
   "pygments_lexer": "ipython3",
   "version": "3.11.4"
  }
 },
 "nbformat": 4,
 "nbformat_minor": 5
}
