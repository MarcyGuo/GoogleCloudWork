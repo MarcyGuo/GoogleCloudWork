{
 "cells": [
  {
   "cell_type": "code",
   "execution_count": 1,
   "metadata": {},
   "outputs": [],
   "source": [
    "import ipywidgets as widgets\n",
    "from IPython.display import display\n",
    "import requests"
   ]
  },
  {
   "cell_type": "code",
   "execution_count": 2,
   "metadata": {},
   "outputs": [
    {
     "data": {
      "application/vnd.jupyter.widget-view+json": {
       "model_id": "ba94049e9bca46e0a8af51550a6acbc7",
       "version_major": 2,
       "version_minor": 0
      },
      "text/plain": [
       "HTML(value='<h2>Mushroom Prediction Input Form</h2>', layout=Layout(width='400px'))"
      ]
     },
     "metadata": {},
     "output_type": "display_data"
    },
    {
     "data": {
      "application/vnd.jupyter.widget-view+json": {
       "model_id": "b1101cbbf43c4c28824497371bbf8533",
       "version_major": 2,
       "version_minor": 0
      },
      "text/plain": [
       "FloatText(value=0.0, description='Cap Diameter(mm):', style=DescriptionStyle(description_width='initial'))"
      ]
     },
     "metadata": {},
     "output_type": "display_data"
    },
    {
     "data": {
      "application/vnd.jupyter.widget-view+json": {
       "model_id": "1b284c8a54fc42179ea1720352517adb",
       "version_major": 2,
       "version_minor": 0
      },
      "text/plain": [
       "IntText(value=0, description='Cap Shape(code):', style=DescriptionStyle(description_width='initial'))"
      ]
     },
     "metadata": {},
     "output_type": "display_data"
    },
    {
     "data": {
      "application/vnd.jupyter.widget-view+json": {
       "model_id": "3b01ff0da14743798d1f7133c358bd0f",
       "version_major": 2,
       "version_minor": 0
      },
      "text/plain": [
       "IntText(value=0, description='Gill Attachment(code):', style=DescriptionStyle(description_width='initial'))"
      ]
     },
     "metadata": {},
     "output_type": "display_data"
    },
    {
     "data": {
      "application/vnd.jupyter.widget-view+json": {
       "model_id": "9ee708446f3b49c68dec82e767db6fcf",
       "version_major": 2,
       "version_minor": 0
      },
      "text/plain": [
       "IntText(value=0, description='Gill Color(code):', style=DescriptionStyle(description_width='initial'))"
      ]
     },
     "metadata": {},
     "output_type": "display_data"
    },
    {
     "data": {
      "application/vnd.jupyter.widget-view+json": {
       "model_id": "6b7e67aabe8a4129adf7678b08efd6a0",
       "version_major": 2,
       "version_minor": 0
      },
      "text/plain": [
       "FloatText(value=0.0, description='Stem Height(cm):', style=DescriptionStyle(description_width='initial'))"
      ]
     },
     "metadata": {},
     "output_type": "display_data"
    },
    {
     "data": {
      "application/vnd.jupyter.widget-view+json": {
       "model_id": "772845204fbf4cc59c97d6a271e871ce",
       "version_major": 2,
       "version_minor": 0
      },
      "text/plain": [
       "FloatText(value=0.0, description='Stem Width(mm):', style=DescriptionStyle(description_width='initial'))"
      ]
     },
     "metadata": {},
     "output_type": "display_data"
    },
    {
     "data": {
      "application/vnd.jupyter.widget-view+json": {
       "model_id": "e8209214662040469e2058f0a882250d",
       "version_major": 2,
       "version_minor": 0
      },
      "text/plain": [
       "IntText(value=0, description='Stem Color(code):', style=DescriptionStyle(description_width='initial'))"
      ]
     },
     "metadata": {},
     "output_type": "display_data"
    },
    {
     "data": {
      "application/vnd.jupyter.widget-view+json": {
       "model_id": "71a2800b7a9a4374ace92d355277032c",
       "version_major": 2,
       "version_minor": 0
      },
      "text/plain": [
       "FloatText(value=0.0, description='Season(code):', style=DescriptionStyle(description_width='initial'))"
      ]
     },
     "metadata": {},
     "output_type": "display_data"
    },
    {
     "data": {
      "application/vnd.jupyter.widget-view+json": {
       "model_id": "3f864d663d194f15a0fab56415e6db2d",
       "version_major": 2,
       "version_minor": 0
      },
      "text/plain": [
       "Button(description='Predict', layout=Layout(width='200px'), style=ButtonStyle(button_color='lightblue'))"
      ]
     },
     "metadata": {},
     "output_type": "display_data"
    },
    {
     "data": {
      "application/vnd.jupyter.widget-view+json": {
       "model_id": "f72b0376a70a4579a42d4f7fa7b2f72f",
       "version_major": 2,
       "version_minor": 0
      },
      "text/plain": [
       "Output(layout=Layout(border_bottom='1px solid black', border_left='1px solid black', border_right='1px solid b…"
      ]
     },
     "metadata": {},
     "output_type": "display_data"
    }
   ],
   "source": [
    "import ipywidgets as widgets\n",
    "from IPython.display import display\n",
    "import requests\n",
    "\n",
    "# URL of your deployed Cloud Function\n",
    "url = 'https://us-central1-gemini-pr.cloudfunctions.net/CloudHW_Pj3'\n",
    "\n",
    "# Create widgets for input with custom styles\n",
    "cap_diameter = widgets.FloatText(description='Cap Diameter(mm):', style={'description_width': 'initial'})\n",
    "cap_shape = widgets.IntText(description='Cap Shape(code):', style={'description_width': 'initial'})\n",
    "gill_attachment = widgets.IntText(description='Gill Attachment(code):', style={'description_width': 'initial'})\n",
    "gill_color = widgets.IntText(description='Gill Color(code):', style={'description_width': 'initial'})\n",
    "stem_height = widgets.FloatText(description='Stem Height(cm):', style={'description_width': 'initial'})\n",
    "stem_width = widgets.FloatText(description='Stem Width(mm):', style={'description_width': 'initial'})\n",
    "stem_color = widgets.IntText(description='Stem Color(code):', style={'description_width': 'initial'})\n",
    "season = widgets.FloatText(description='Season(code):', style={'description_width': 'initial'})\n",
    "\n",
    "# Button to submit the input with custom style\n",
    "button = widgets.Button(description='Predict', layout=widgets.Layout(width='200px'), style={'button_color': 'lightblue'})\n",
    "\n",
    "# Output widget to display the result with custom style\n",
    "output = widgets.Output(layout=widgets.Layout(border='1px solid black', padding='10px'))\n",
    "\n",
    "def on_button_click(b):\n",
    "    # Get the input values\n",
    "    features = [\n",
    "        cap_diameter.value,\n",
    "        cap_shape.value,\n",
    "        gill_attachment.value,\n",
    "        gill_color.value,\n",
    "        stem_height.value,\n",
    "        stem_width.value,\n",
    "        stem_color.value,\n",
    "        season.value\n",
    "    ]\n",
    "    \n",
    "    # Prepare the data for the request\n",
    "    data = {\n",
    "        'features': features\n",
    "    }\n",
    "    \n",
    "    # Make the request to the Cloud Function\n",
    "    response = requests.post(url, json=data)\n",
    "    \n",
    "    # Display the result\n",
    "    with output:\n",
    "        output.clear_output()\n",
    "        if response.status_code == 200:\n",
    "            result = response.json()\n",
    "            likelihood = result['likelihood_poisonous'] * 100\n",
    "            if likelihood > 50:\n",
    "                display(widgets.HTML(value=f\"<b style='color: red;'>Likelihood of being poisonous: {likelihood:.2f}% (Poisonous)</b>\"))\n",
    "            else:\n",
    "                display(widgets.HTML(value=f\"<b style='color: green;'>Likelihood of being poisonous: {likelihood:.2f}% (Edible)</b>\"))\n",
    "\n",
    "        else:\n",
    "            display(widgets.HTML(value=f\"<b>Error: {response.json()['error']}</b>\", style={'font-size': '16px', 'color': 'black'}))\n",
    "\n",
    "# Link the button click event to the function\n",
    "button.on_click(on_button_click)\n",
    "\n",
    "# Display the widgets\n",
    "display(widgets.HTML(\"<h2>Mushroom Prediction Input Form</h2>\", layout=widgets.Layout(width='400px')))\n",
    "display(cap_diameter, cap_shape, gill_attachment, gill_color, stem_height, stem_width, stem_color, season, button, output)\n"
   ]
  },
  {
   "cell_type": "code",
   "execution_count": null,
   "metadata": {},
   "outputs": [],
   "source": []
  }
 ],
 "metadata": {
  "kernelspec": {
   "display_name": "Python 3",
   "language": "python",
   "name": "python3"
  },
  "language_info": {
   "codemirror_mode": {
    "name": "ipython",
    "version": 3
   },
   "file_extension": ".py",
   "mimetype": "text/x-python",
   "name": "python",
   "nbconvert_exporter": "python",
   "pygments_lexer": "ipython3",
   "version": "3.11.4"
  }
 },
 "nbformat": 4,
 "nbformat_minor": 2
}
